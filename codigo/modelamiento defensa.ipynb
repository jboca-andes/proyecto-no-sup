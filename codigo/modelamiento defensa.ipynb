{
 "cells": [
  {
   "cell_type": "code",
   "execution_count": 17,
   "metadata": {
    "colab": {
     "base_uri": "https://localhost:8080/"
    },
    "id": "Xt7Bgvp6WYpT",
    "outputId": "4c4413b2-13f9-43de-b551-1a4ad182e3c7"
   },
   "outputs": [],
   "source": [
    "import pandas as pd\n",
    "import numpy as np\n",
    "\n",
    "from sklearn.decomposition import PCA\n",
    "from sklearn.preprocessing import StandardScaler\n",
    "from scipy.linalg import svd\n",
    "\n",
    "import matplotlib.pyplot as plt\n",
    "from sklearn.cluster import DBSCAN\n",
    "\n",
    "from sklearn.metrics.pairwise import cosine_similarity\n",
    "#from google.colab import drive\n",
    "#drive.mount('/content/drive')"
   ]
  },
  {
   "cell_type": "code",
   "execution_count": 2,
   "metadata": {
    "id": "Er8J0dlkWpHe"
   },
   "outputs": [],
   "source": [
    "#Carga de datos\n",
    "df = pd.read_excel('../datos/Premier League 2011-12 Match by Match.xls')"
   ]
  },
  {
   "cell_type": "code",
   "execution_count": 3,
   "metadata": {
    "colab": {
     "base_uri": "https://localhost:8080/",
     "height": 456
    },
    "id": "lRsJsHhOWzj_",
    "outputId": "cce69646-9f94-4268-c8c2-87971484775a"
   },
   "outputs": [
    {
     "data": {
      "text/html": [
       "<div>\n",
       "<style scoped>\n",
       "    .dataframe tbody tr th:only-of-type {\n",
       "        vertical-align: middle;\n",
       "    }\n",
       "\n",
       "    .dataframe tbody tr th {\n",
       "        vertical-align: top;\n",
       "    }\n",
       "\n",
       "    .dataframe thead th {\n",
       "        text-align: right;\n",
       "    }\n",
       "</style>\n",
       "<table border=\"1\" class=\"dataframe\">\n",
       "  <thead>\n",
       "    <tr style=\"text-align: right;\">\n",
       "      <th></th>\n",
       "      <th>Date</th>\n",
       "      <th>Player ID</th>\n",
       "      <th>Player Surname</th>\n",
       "      <th>Player Forename</th>\n",
       "      <th>Team</th>\n",
       "      <th>Team Id</th>\n",
       "      <th>Opposition</th>\n",
       "      <th>Opposition id</th>\n",
       "      <th>Venue</th>\n",
       "      <th>Position Id</th>\n",
       "      <th>...</th>\n",
       "      <th>Pass Left</th>\n",
       "      <th>Pass Right</th>\n",
       "      <th>Unsuccessful Ball Touch</th>\n",
       "      <th>Successful Ball Touch</th>\n",
       "      <th>Take-Ons Overrun</th>\n",
       "      <th>CompId</th>\n",
       "      <th>SeasId</th>\n",
       "      <th>Touches open play final third</th>\n",
       "      <th>Touches open play opp box</th>\n",
       "      <th>Touches open play opp six yards</th>\n",
       "    </tr>\n",
       "  </thead>\n",
       "  <tbody>\n",
       "    <tr>\n",
       "      <th>0</th>\n",
       "      <td>2012-04-28</td>\n",
       "      <td>28566</td>\n",
       "      <td>Abou Diaby</td>\n",
       "      <td>Vassiriki</td>\n",
       "      <td>Arsenal</td>\n",
       "      <td>3</td>\n",
       "      <td>Stoke City</td>\n",
       "      <td>110</td>\n",
       "      <td>Away</td>\n",
       "      <td>4</td>\n",
       "      <td>...</td>\n",
       "      <td>2</td>\n",
       "      <td>4</td>\n",
       "      <td>0</td>\n",
       "      <td>0</td>\n",
       "      <td>0</td>\n",
       "      <td>8</td>\n",
       "      <td>2011</td>\n",
       "      <td>2</td>\n",
       "      <td>1</td>\n",
       "      <td>0</td>\n",
       "    </tr>\n",
       "    <tr>\n",
       "      <th>1</th>\n",
       "      <td>2011-11-26</td>\n",
       "      <td>28566</td>\n",
       "      <td>Abou Diaby</td>\n",
       "      <td>Vassiriki</td>\n",
       "      <td>Arsenal</td>\n",
       "      <td>3</td>\n",
       "      <td>Fulham</td>\n",
       "      <td>54</td>\n",
       "      <td>Home</td>\n",
       "      <td>4</td>\n",
       "      <td>...</td>\n",
       "      <td>5</td>\n",
       "      <td>7</td>\n",
       "      <td>0</td>\n",
       "      <td>0</td>\n",
       "      <td>0</td>\n",
       "      <td>8</td>\n",
       "      <td>2011</td>\n",
       "      <td>11</td>\n",
       "      <td>1</td>\n",
       "      <td>0</td>\n",
       "    </tr>\n",
       "    <tr>\n",
       "      <th>2</th>\n",
       "      <td>2012-03-03</td>\n",
       "      <td>28566</td>\n",
       "      <td>Abou Diaby</td>\n",
       "      <td>Vassiriki</td>\n",
       "      <td>Arsenal</td>\n",
       "      <td>3</td>\n",
       "      <td>Liverpool</td>\n",
       "      <td>14</td>\n",
       "      <td>Away</td>\n",
       "      <td>4</td>\n",
       "      <td>...</td>\n",
       "      <td>5</td>\n",
       "      <td>3</td>\n",
       "      <td>2</td>\n",
       "      <td>0</td>\n",
       "      <td>0</td>\n",
       "      <td>8</td>\n",
       "      <td>2011</td>\n",
       "      <td>4</td>\n",
       "      <td>0</td>\n",
       "      <td>0</td>\n",
       "    </tr>\n",
       "    <tr>\n",
       "      <th>3</th>\n",
       "      <td>2012-04-21</td>\n",
       "      <td>28566</td>\n",
       "      <td>Abou Diaby</td>\n",
       "      <td>Vassiriki</td>\n",
       "      <td>Arsenal</td>\n",
       "      <td>3</td>\n",
       "      <td>Chelsea</td>\n",
       "      <td>8</td>\n",
       "      <td>Home</td>\n",
       "      <td>4</td>\n",
       "      <td>...</td>\n",
       "      <td>6</td>\n",
       "      <td>9</td>\n",
       "      <td>0</td>\n",
       "      <td>0</td>\n",
       "      <td>0</td>\n",
       "      <td>8</td>\n",
       "      <td>2011</td>\n",
       "      <td>8</td>\n",
       "      <td>1</td>\n",
       "      <td>0</td>\n",
       "    </tr>\n",
       "    <tr>\n",
       "      <th>4</th>\n",
       "      <td>2012-01-03</td>\n",
       "      <td>20208</td>\n",
       "      <td>Adam</td>\n",
       "      <td>Charlie</td>\n",
       "      <td>Liverpool</td>\n",
       "      <td>14</td>\n",
       "      <td>Manchester City</td>\n",
       "      <td>43</td>\n",
       "      <td>Away</td>\n",
       "      <td>4</td>\n",
       "      <td>...</td>\n",
       "      <td>13</td>\n",
       "      <td>12</td>\n",
       "      <td>0</td>\n",
       "      <td>4</td>\n",
       "      <td>0</td>\n",
       "      <td>8</td>\n",
       "      <td>2011</td>\n",
       "      <td>16</td>\n",
       "      <td>3</td>\n",
       "      <td>0</td>\n",
       "    </tr>\n",
       "  </tbody>\n",
       "</table>\n",
       "<p>5 rows × 210 columns</p>\n",
       "</div>"
      ],
      "text/plain": [
       "         Date  Player ID Player Surname Player Forename       Team  Team Id  \\\n",
       "0  2012-04-28      28566     Abou Diaby       Vassiriki    Arsenal        3   \n",
       "1  2011-11-26      28566     Abou Diaby       Vassiriki    Arsenal        3   \n",
       "2  2012-03-03      28566     Abou Diaby       Vassiriki    Arsenal        3   \n",
       "3  2012-04-21      28566     Abou Diaby       Vassiriki    Arsenal        3   \n",
       "4  2012-01-03      20208           Adam         Charlie  Liverpool       14   \n",
       "\n",
       "        Opposition  Opposition id Venue  Position Id  ...  Pass Left  \\\n",
       "0       Stoke City            110  Away            4  ...          2   \n",
       "1           Fulham             54  Home            4  ...          5   \n",
       "2        Liverpool             14  Away            4  ...          5   \n",
       "3          Chelsea              8  Home            4  ...          6   \n",
       "4  Manchester City             43  Away            4  ...         13   \n",
       "\n",
       "   Pass Right  Unsuccessful Ball Touch  Successful Ball Touch  \\\n",
       "0           4                        0                      0   \n",
       "1           7                        0                      0   \n",
       "2           3                        2                      0   \n",
       "3           9                        0                      0   \n",
       "4          12                        0                      4   \n",
       "\n",
       "   Take-Ons Overrun  CompId  SeasId  Touches open play final third  \\\n",
       "0                 0       8    2011                              2   \n",
       "1                 0       8    2011                             11   \n",
       "2                 0       8    2011                              4   \n",
       "3                 0       8    2011                              8   \n",
       "4                 0       8    2011                             16   \n",
       "\n",
       "   Touches open play opp box  Touches open play opp six yards  \n",
       "0                          1                                0  \n",
       "1                          1                                0  \n",
       "2                          0                                0  \n",
       "3                          1                                0  \n",
       "4                          3                                0  \n",
       "\n",
       "[5 rows x 210 columns]"
      ]
     },
     "execution_count": 3,
     "metadata": {},
     "output_type": "execute_result"
    }
   ],
   "source": [
    "#Forma de los datos\n",
    "df.head()"
   ]
  },
  {
   "cell_type": "code",
   "execution_count": 4,
   "metadata": {
    "colab": {
     "base_uri": "https://localhost:8080/",
     "height": 490
    },
    "id": "tpnz-zZSW9N2",
    "outputId": "21e9a01c-6759-43ca-9a6e-895e94574405"
   },
   "outputs": [
    {
     "name": "stdout",
     "output_type": "stream",
     "text": [
      "La posición de defensa cuenta con: 3260 Registros diferentes. \n",
      "Adicionalmente, existen 175 defensas diferentes.\n"
     ]
    },
    {
     "data": {
      "text/html": [
       "<div>\n",
       "<style scoped>\n",
       "    .dataframe tbody tr th:only-of-type {\n",
       "        vertical-align: middle;\n",
       "    }\n",
       "\n",
       "    .dataframe tbody tr th {\n",
       "        vertical-align: top;\n",
       "    }\n",
       "\n",
       "    .dataframe thead th {\n",
       "        text-align: right;\n",
       "    }\n",
       "</style>\n",
       "<table border=\"1\" class=\"dataframe\">\n",
       "  <thead>\n",
       "    <tr style=\"text-align: right;\">\n",
       "      <th></th>\n",
       "      <th>Date</th>\n",
       "      <th>Player ID</th>\n",
       "      <th>Player Surname</th>\n",
       "      <th>Player Forename</th>\n",
       "      <th>Team</th>\n",
       "      <th>Team Id</th>\n",
       "      <th>Opposition</th>\n",
       "      <th>Opposition id</th>\n",
       "      <th>Venue</th>\n",
       "      <th>Position Id</th>\n",
       "      <th>...</th>\n",
       "      <th>Pass Left</th>\n",
       "      <th>Pass Right</th>\n",
       "      <th>Unsuccessful Ball Touch</th>\n",
       "      <th>Successful Ball Touch</th>\n",
       "      <th>Take-Ons Overrun</th>\n",
       "      <th>CompId</th>\n",
       "      <th>SeasId</th>\n",
       "      <th>Touches open play final third</th>\n",
       "      <th>Touches open play opp box</th>\n",
       "      <th>Touches open play opp six yards</th>\n",
       "    </tr>\n",
       "  </thead>\n",
       "  <tbody>\n",
       "    <tr>\n",
       "      <th>124</th>\n",
       "      <td>2012-01-03</td>\n",
       "      <td>21094</td>\n",
       "      <td>Agger</td>\n",
       "      <td>Daniel</td>\n",
       "      <td>Liverpool</td>\n",
       "      <td>14</td>\n",
       "      <td>Manchester City</td>\n",
       "      <td>43</td>\n",
       "      <td>Away</td>\n",
       "      <td>2</td>\n",
       "      <td>...</td>\n",
       "      <td>5</td>\n",
       "      <td>18</td>\n",
       "      <td>0</td>\n",
       "      <td>2</td>\n",
       "      <td>0</td>\n",
       "      <td>8</td>\n",
       "      <td>2011</td>\n",
       "      <td>1</td>\n",
       "      <td>0</td>\n",
       "      <td>0</td>\n",
       "    </tr>\n",
       "    <tr>\n",
       "      <th>125</th>\n",
       "      <td>2011-08-13</td>\n",
       "      <td>21094</td>\n",
       "      <td>Agger</td>\n",
       "      <td>Daniel</td>\n",
       "      <td>Liverpool</td>\n",
       "      <td>14</td>\n",
       "      <td>Sunderland</td>\n",
       "      <td>56</td>\n",
       "      <td>Home</td>\n",
       "      <td>2</td>\n",
       "      <td>...</td>\n",
       "      <td>9</td>\n",
       "      <td>6</td>\n",
       "      <td>0</td>\n",
       "      <td>2</td>\n",
       "      <td>0</td>\n",
       "      <td>8</td>\n",
       "      <td>2011</td>\n",
       "      <td>2</td>\n",
       "      <td>0</td>\n",
       "      <td>1</td>\n",
       "    </tr>\n",
       "    <tr>\n",
       "      <th>126</th>\n",
       "      <td>2012-05-08</td>\n",
       "      <td>21094</td>\n",
       "      <td>Agger</td>\n",
       "      <td>Daniel</td>\n",
       "      <td>Liverpool</td>\n",
       "      <td>14</td>\n",
       "      <td>Chelsea</td>\n",
       "      <td>8</td>\n",
       "      <td>Home</td>\n",
       "      <td>2</td>\n",
       "      <td>...</td>\n",
       "      <td>18</td>\n",
       "      <td>2</td>\n",
       "      <td>1</td>\n",
       "      <td>0</td>\n",
       "      <td>0</td>\n",
       "      <td>8</td>\n",
       "      <td>2011</td>\n",
       "      <td>9</td>\n",
       "      <td>3</td>\n",
       "      <td>1</td>\n",
       "    </tr>\n",
       "    <tr>\n",
       "      <th>127</th>\n",
       "      <td>2011-11-05</td>\n",
       "      <td>21094</td>\n",
       "      <td>Agger</td>\n",
       "      <td>Daniel</td>\n",
       "      <td>Liverpool</td>\n",
       "      <td>14</td>\n",
       "      <td>Swansea City</td>\n",
       "      <td>80</td>\n",
       "      <td>Home</td>\n",
       "      <td>2</td>\n",
       "      <td>...</td>\n",
       "      <td>18</td>\n",
       "      <td>7</td>\n",
       "      <td>0</td>\n",
       "      <td>0</td>\n",
       "      <td>0</td>\n",
       "      <td>8</td>\n",
       "      <td>2011</td>\n",
       "      <td>7</td>\n",
       "      <td>4</td>\n",
       "      <td>0</td>\n",
       "    </tr>\n",
       "    <tr>\n",
       "      <th>128</th>\n",
       "      <td>2011-12-05</td>\n",
       "      <td>21094</td>\n",
       "      <td>Agger</td>\n",
       "      <td>Daniel</td>\n",
       "      <td>Liverpool</td>\n",
       "      <td>14</td>\n",
       "      <td>Fulham</td>\n",
       "      <td>54</td>\n",
       "      <td>Away</td>\n",
       "      <td>2</td>\n",
       "      <td>...</td>\n",
       "      <td>17</td>\n",
       "      <td>15</td>\n",
       "      <td>0</td>\n",
       "      <td>2</td>\n",
       "      <td>0</td>\n",
       "      <td>8</td>\n",
       "      <td>2011</td>\n",
       "      <td>8</td>\n",
       "      <td>1</td>\n",
       "      <td>0</td>\n",
       "    </tr>\n",
       "  </tbody>\n",
       "</table>\n",
       "<p>5 rows × 210 columns</p>\n",
       "</div>"
      ],
      "text/plain": [
       "           Date  Player ID Player Surname Player Forename       Team  Team Id  \\\n",
       "124  2012-01-03      21094          Agger          Daniel  Liverpool       14   \n",
       "125  2011-08-13      21094          Agger          Daniel  Liverpool       14   \n",
       "126  2012-05-08      21094          Agger          Daniel  Liverpool       14   \n",
       "127  2011-11-05      21094          Agger          Daniel  Liverpool       14   \n",
       "128  2011-12-05      21094          Agger          Daniel  Liverpool       14   \n",
       "\n",
       "          Opposition  Opposition id Venue  Position Id  ...  Pass Left  \\\n",
       "124  Manchester City             43  Away            2  ...          5   \n",
       "125       Sunderland             56  Home            2  ...          9   \n",
       "126          Chelsea              8  Home            2  ...         18   \n",
       "127     Swansea City             80  Home            2  ...         18   \n",
       "128           Fulham             54  Away            2  ...         17   \n",
       "\n",
       "     Pass Right  Unsuccessful Ball Touch  Successful Ball Touch  \\\n",
       "124          18                        0                      2   \n",
       "125           6                        0                      2   \n",
       "126           2                        1                      0   \n",
       "127           7                        0                      0   \n",
       "128          15                        0                      2   \n",
       "\n",
       "     Take-Ons Overrun  CompId  SeasId  Touches open play final third  \\\n",
       "124                 0       8    2011                              1   \n",
       "125                 0       8    2011                              2   \n",
       "126                 0       8    2011                              9   \n",
       "127                 0       8    2011                              7   \n",
       "128                 0       8    2011                              8   \n",
       "\n",
       "     Touches open play opp box  Touches open play opp six yards  \n",
       "124                          0                                0  \n",
       "125                          0                                1  \n",
       "126                          3                                1  \n",
       "127                          4                                0  \n",
       "128                          1                                0  \n",
       "\n",
       "[5 rows x 210 columns]"
      ]
     },
     "execution_count": 4,
     "metadata": {},
     "output_type": "execute_result"
    }
   ],
   "source": [
    "df_defensa = df[df['Position Id'] == 2]\n",
    "print(\"La posición de defensa cuenta con:\", df_defensa.shape[0], \"Registros diferentes.\",\n",
    "     \"\\nAdicionalmente, existen\", len(df_defensa[\"Player ID\"].unique()), \"defensas diferentes.\")\n",
    "df_defensa.head()"
   ]
  },
  {
   "cell_type": "code",
   "execution_count": 5,
   "metadata": {
    "colab": {
     "base_uri": "https://localhost:8080/"
    },
    "id": "Waus90A3XGQH",
    "outputId": "1cefdef2-f665-4a9d-90cf-101bcbb9f0e6"
   },
   "outputs": [
    {
     "name": "stdout",
     "output_type": "stream",
     "text": [
      "Se han eliminado las columnas: ['Date', 'Player Surname', 'Player Forename', 'Team', 'Opposition', 'Venue', 'Position Id', 'Appearances', 'Penalties Saved', 'Penalties Off Target', 'Penalties Not Scored', 'Other Blocked Shots', 'Attempts from Penalties off target', 'Goal Assist Goal Kick', 'Key Goal Kick', 'Goals Conceded', 'Goals Conceded Inside Box', 'Goals Conceded Outside Box', 'Saves Made', 'Saves Made from Inside Box', 'Saves Made from Outside Box', 'Saves from Penalty', 'Catches', 'Drops', 'Crosses not Claimed', 'Team Clean sheet', 'Shots On Conceded', 'Shots On Conceded Inside Box', 'Shots On Conceded Outside Box', 'Turnovers', 'Big Chances Faced', 'CompId', 'SeasId'] \n",
      " reteniendo únicamente 177 columnas.\n"
     ]
    },
    {
     "name": "stderr",
     "output_type": "stream",
     "text": [
      "/opt/anaconda3/lib/python3.9/site-packages/pandas/core/frame.py:4906: SettingWithCopyWarning: \n",
      "A value is trying to be set on a copy of a slice from a DataFrame\n",
      "\n",
      "See the caveats in the documentation: https://pandas.pydata.org/pandas-docs/stable/user_guide/indexing.html#returning-a-view-versus-a-copy\n",
      "  return super().drop(\n"
     ]
    }
   ],
   "source": [
    "col_eliminar = []\n",
    "for col in df_defensa.columns:\n",
    "    if not df_defensa[col].mad()>0:\n",
    "        col_eliminar.append(col)\n",
    "\n",
    "df_defensa.drop(col_eliminar, axis = 1, inplace = True)\n",
    "print(\"Se han eliminado las columnas:\", col_eliminar, \n",
    "      \"\\n reteniendo únicamente\", df_defensa.shape[1], \"columnas.\")"
   ]
  },
  {
   "cell_type": "markdown",
   "metadata": {
    "id": "bnluVZzbecqU"
   },
   "source": [
    "Teniendo en cuenta que los goles para el caso de la posición de defensa no son tan determinantes y que en solo en el 3% de los partidos un defensa marca gol, eliminamos las variables relacionadas"
   ]
  },
  {
   "cell_type": "code",
   "execution_count": 6,
   "metadata": {
    "colab": {
     "base_uri": "https://localhost:8080/"
    },
    "id": "pg7zvt3GYx0X",
    "outputId": "2c62c72d-7bdf-4d47-fca4-65f37c91ddd7"
   },
   "outputs": [
    {
     "name": "stdout",
     "output_type": "stream",
     "text": [
      "Se han eliminado las columnas: ['Goals', 'Winning Goal', 'Penalties Taken', 'Penalty Goals', 'Direct Free-kick Goals', 'Goals from Inside Box', 'Goals from Outside Box', 'Headed Goals', 'Left Foot Goals', 'Right Foot Goals', 'Other Goals', 'Other Shots On Target', 'Goals from Throws', 'Goals from Direct Free Kick', 'Goals from penalties', 'Attempts from Penalties on target', 'Goals as a substitute'] \n",
      " reteniendo únicamente 160 columnas.\n"
     ]
    }
   ],
   "source": [
    "col_eliminar = []\n",
    "for col in df_defensa.columns:\n",
    "    if not df_defensa.loc[df_defensa[\"Goals\"] == 0, col].mad()>0:\n",
    "        col_eliminar.append(col)\n",
    "\n",
    "df_defensa.drop(col_eliminar, axis = 1, inplace = True)\n",
    "print(\"Se han eliminado las columnas:\", col_eliminar, \n",
    "      \"\\n reteniendo únicamente\", df_defensa.shape[1], \"columnas.\")"
   ]
  },
  {
   "cell_type": "markdown",
   "metadata": {
    "id": "hXEEBQ7sfVFw"
   },
   "source": [
    "Agregamos los datos de cada jugador, teniendo en cuenta que queremos comparar los jugadores entre si, y no por partido individual."
   ]
  },
  {
   "cell_type": "code",
   "execution_count": 7,
   "metadata": {
    "colab": {
     "base_uri": "https://localhost:8080/",
     "height": 418
    },
    "id": "bE9mprEebGJz",
    "outputId": "3dddabb2-f971-41f4-eaa3-bef1db0948b8"
   },
   "outputs": [
    {
     "data": {
      "text/html": [
       "<div>\n",
       "<style scoped>\n",
       "    .dataframe tbody tr th:only-of-type {\n",
       "        vertical-align: middle;\n",
       "    }\n",
       "\n",
       "    .dataframe tbody tr th {\n",
       "        vertical-align: top;\n",
       "    }\n",
       "\n",
       "    .dataframe thead th {\n",
       "        text-align: right;\n",
       "    }\n",
       "</style>\n",
       "<table border=\"1\" class=\"dataframe\">\n",
       "  <thead>\n",
       "    <tr style=\"text-align: right;\">\n",
       "      <th></th>\n",
       "      <th>Team Id</th>\n",
       "      <th>Opposition id</th>\n",
       "      <th>Time Played</th>\n",
       "      <th>Starts</th>\n",
       "      <th>Substitute On</th>\n",
       "      <th>Substitute Off</th>\n",
       "      <th>First Goal</th>\n",
       "      <th>Shots On Target inc goals</th>\n",
       "      <th>Shots Off Target inc woodwork</th>\n",
       "      <th>Blocked Shots</th>\n",
       "      <th>...</th>\n",
       "      <th>Pass Forward</th>\n",
       "      <th>Pass Backward</th>\n",
       "      <th>Pass Left</th>\n",
       "      <th>Pass Right</th>\n",
       "      <th>Unsuccessful Ball Touch</th>\n",
       "      <th>Successful Ball Touch</th>\n",
       "      <th>Take-Ons Overrun</th>\n",
       "      <th>Touches open play final third</th>\n",
       "      <th>Touches open play opp box</th>\n",
       "      <th>Touches open play opp six yards</th>\n",
       "    </tr>\n",
       "    <tr>\n",
       "      <th>Player ID</th>\n",
       "      <th></th>\n",
       "      <th></th>\n",
       "      <th></th>\n",
       "      <th></th>\n",
       "      <th></th>\n",
       "      <th></th>\n",
       "      <th></th>\n",
       "      <th></th>\n",
       "      <th></th>\n",
       "      <th></th>\n",
       "      <th></th>\n",
       "      <th></th>\n",
       "      <th></th>\n",
       "      <th></th>\n",
       "      <th></th>\n",
       "      <th></th>\n",
       "      <th></th>\n",
       "      <th></th>\n",
       "      <th></th>\n",
       "      <th></th>\n",
       "      <th></th>\n",
       "    </tr>\n",
       "  </thead>\n",
       "  <tbody>\n",
       "    <tr>\n",
       "      <th>973</th>\n",
       "      <td>1870</td>\n",
       "      <td>475</td>\n",
       "      <td>1282</td>\n",
       "      <td>16</td>\n",
       "      <td>1</td>\n",
       "      <td>8</td>\n",
       "      <td>0</td>\n",
       "      <td>0</td>\n",
       "      <td>1</td>\n",
       "      <td>1</td>\n",
       "      <td>...</td>\n",
       "      <td>162</td>\n",
       "      <td>35</td>\n",
       "      <td>44</td>\n",
       "      <td>56</td>\n",
       "      <td>4</td>\n",
       "      <td>10</td>\n",
       "      <td>1</td>\n",
       "      <td>31</td>\n",
       "      <td>3</td>\n",
       "      <td>1</td>\n",
       "    </tr>\n",
       "    <tr>\n",
       "      <th>1059</th>\n",
       "      <td>884</td>\n",
       "      <td>562</td>\n",
       "      <td>1424</td>\n",
       "      <td>15</td>\n",
       "      <td>2</td>\n",
       "      <td>1</td>\n",
       "      <td>0</td>\n",
       "      <td>0</td>\n",
       "      <td>4</td>\n",
       "      <td>0</td>\n",
       "      <td>...</td>\n",
       "      <td>207</td>\n",
       "      <td>44</td>\n",
       "      <td>85</td>\n",
       "      <td>88</td>\n",
       "      <td>5</td>\n",
       "      <td>13</td>\n",
       "      <td>0</td>\n",
       "      <td>20</td>\n",
       "      <td>8</td>\n",
       "      <td>2</td>\n",
       "    </tr>\n",
       "    <tr>\n",
       "      <th>1131</th>\n",
       "      <td>448</td>\n",
       "      <td>238</td>\n",
       "      <td>651</td>\n",
       "      <td>8</td>\n",
       "      <td>0</td>\n",
       "      <td>1</td>\n",
       "      <td>1</td>\n",
       "      <td>2</td>\n",
       "      <td>1</td>\n",
       "      <td>2</td>\n",
       "      <td>...</td>\n",
       "      <td>104</td>\n",
       "      <td>26</td>\n",
       "      <td>45</td>\n",
       "      <td>57</td>\n",
       "      <td>3</td>\n",
       "      <td>9</td>\n",
       "      <td>0</td>\n",
       "      <td>8</td>\n",
       "      <td>4</td>\n",
       "      <td>1</td>\n",
       "    </tr>\n",
       "    <tr>\n",
       "      <th>1216</th>\n",
       "      <td>1144</td>\n",
       "      <td>872</td>\n",
       "      <td>1704</td>\n",
       "      <td>19</td>\n",
       "      <td>3</td>\n",
       "      <td>1</td>\n",
       "      <td>0</td>\n",
       "      <td>3</td>\n",
       "      <td>8</td>\n",
       "      <td>0</td>\n",
       "      <td>...</td>\n",
       "      <td>296</td>\n",
       "      <td>34</td>\n",
       "      <td>119</td>\n",
       "      <td>40</td>\n",
       "      <td>4</td>\n",
       "      <td>8</td>\n",
       "      <td>0</td>\n",
       "      <td>67</td>\n",
       "      <td>15</td>\n",
       "      <td>3</td>\n",
       "    </tr>\n",
       "    <tr>\n",
       "      <th>1587</th>\n",
       "      <td>750</td>\n",
       "      <td>814</td>\n",
       "      <td>1982</td>\n",
       "      <td>21</td>\n",
       "      <td>4</td>\n",
       "      <td>0</td>\n",
       "      <td>0</td>\n",
       "      <td>0</td>\n",
       "      <td>2</td>\n",
       "      <td>4</td>\n",
       "      <td>...</td>\n",
       "      <td>243</td>\n",
       "      <td>65</td>\n",
       "      <td>164</td>\n",
       "      <td>80</td>\n",
       "      <td>6</td>\n",
       "      <td>21</td>\n",
       "      <td>0</td>\n",
       "      <td>21</td>\n",
       "      <td>13</td>\n",
       "      <td>0</td>\n",
       "    </tr>\n",
       "  </tbody>\n",
       "</table>\n",
       "<p>5 rows × 159 columns</p>\n",
       "</div>"
      ],
      "text/plain": [
       "           Team Id  Opposition id  Time Played  Starts  Substitute On  \\\n",
       "Player ID                                                               \n",
       "973           1870            475         1282      16              1   \n",
       "1059           884            562         1424      15              2   \n",
       "1131           448            238          651       8              0   \n",
       "1216          1144            872         1704      19              3   \n",
       "1587           750            814         1982      21              4   \n",
       "\n",
       "           Substitute Off  First Goal  Shots On Target inc goals  \\\n",
       "Player ID                                                          \n",
       "973                     8           0                          0   \n",
       "1059                    1           0                          0   \n",
       "1131                    1           1                          2   \n",
       "1216                    1           0                          3   \n",
       "1587                    0           0                          0   \n",
       "\n",
       "           Shots Off Target inc woodwork  Blocked Shots  ...  Pass Forward  \\\n",
       "Player ID                                                ...                 \n",
       "973                                    1              1  ...           162   \n",
       "1059                                   4              0  ...           207   \n",
       "1131                                   1              2  ...           104   \n",
       "1216                                   8              0  ...           296   \n",
       "1587                                   2              4  ...           243   \n",
       "\n",
       "           Pass Backward  Pass Left  Pass Right  Unsuccessful Ball Touch  \\\n",
       "Player ID                                                                  \n",
       "973                   35         44          56                        4   \n",
       "1059                  44         85          88                        5   \n",
       "1131                  26         45          57                        3   \n",
       "1216                  34        119          40                        4   \n",
       "1587                  65        164          80                        6   \n",
       "\n",
       "           Successful Ball Touch  Take-Ons Overrun  \\\n",
       "Player ID                                            \n",
       "973                           10                 1   \n",
       "1059                          13                 0   \n",
       "1131                           9                 0   \n",
       "1216                           8                 0   \n",
       "1587                          21                 0   \n",
       "\n",
       "           Touches open play final third  Touches open play opp box  \\\n",
       "Player ID                                                             \n",
       "973                                   31                          3   \n",
       "1059                                  20                          8   \n",
       "1131                                   8                          4   \n",
       "1216                                  67                         15   \n",
       "1587                                  21                         13   \n",
       "\n",
       "           Touches open play opp six yards  \n",
       "Player ID                                   \n",
       "973                                      1  \n",
       "1059                                     2  \n",
       "1131                                     1  \n",
       "1216                                     3  \n",
       "1587                                     0  \n",
       "\n",
       "[5 rows x 159 columns]"
      ]
     },
     "execution_count": 7,
     "metadata": {},
     "output_type": "execute_result"
    }
   ],
   "source": [
    "df_defensa = df_defensa.groupby(['Player ID']).sum()\n",
    "df_defensa.head()"
   ]
  },
  {
   "cell_type": "markdown",
   "metadata": {
    "id": "yW6XUo88f16F"
   },
   "source": [
    "Retiramos todas las variables categotricas o identificativas"
   ]
  },
  {
   "cell_type": "code",
   "execution_count": 8,
   "metadata": {
    "colab": {
     "base_uri": "https://localhost:8080/"
    },
    "id": "zEQl5XlHflVY",
    "outputId": "5f5d37e4-239c-4bec-a272-be02baca7346"
   },
   "outputs": [
    {
     "data": {
      "text/plain": [
       "Index(['Team Id', 'Opposition id', 'Time Played', 'Starts', 'Substitute On',\n",
       "       'Substitute Off', 'First Goal', 'Shots On Target inc goals',\n",
       "       'Shots Off Target inc woodwork', 'Blocked Shots',\n",
       "       ...\n",
       "       'Pass Forward', 'Pass Backward', 'Pass Left', 'Pass Right',\n",
       "       'Unsuccessful Ball Touch', 'Successful Ball Touch', 'Take-Ons Overrun',\n",
       "       'Touches open play final third', 'Touches open play opp box',\n",
       "       'Touches open play opp six yards'],\n",
       "      dtype='object', length=159)"
      ]
     },
     "execution_count": 8,
     "metadata": {},
     "output_type": "execute_result"
    }
   ],
   "source": [
    "df_defensa.columns"
   ]
  },
  {
   "cell_type": "code",
   "execution_count": 9,
   "metadata": {
    "id": "QR9oPzYuf9Eg"
   },
   "outputs": [],
   "source": [
    "col_eliminar = [\"Team Id\", 'Opposition id']\n",
    "df_defensa.drop(col_eliminar, axis = 1, inplace = True)"
   ]
  },
  {
   "cell_type": "markdown",
   "metadata": {
    "id": "YaRwdcC6kSf6"
   },
   "source": [
    "El número de variables aun es demasiado alto para hacer un análisis uno a uno. Por lo tanto, vamos a utilizar svd para reducir dimensiones"
   ]
  },
  {
   "cell_type": "code",
   "execution_count": 10,
   "metadata": {
    "colab": {
     "base_uri": "https://localhost:8080/",
     "height": 281
    },
    "id": "YmMCrjC-gRMd",
    "outputId": "6f97fc52-bb99-4341-985b-5dc99e9f5ce1"
   },
   "outputs": [
    {
     "data": {
      "image/png": "[encoded data removed]",
      "text/plain": [
       "<Figure size 432x288 with 1 Axes>"
      ]
     },
     "metadata": {
      "needs_background": "light"
     },
     "output_type": "display_data"
    }
   ],
   "source": [
    "scaler = StandardScaler()\n",
    "scaler.fit(df_defensa)\n",
    "df_defensa_transformada =scaler.transform(df_defensa)\n",
    "\n",
    "U, S, VT = svd(df_defensa_transformada, full_matrices=False)\n",
    "\n",
    "idx = range(len(S))\n",
    "func = [S[0]/((i+1) ** 2) for i in idx ]\n",
    "plt.plot(idx,func) \n",
    "plt.title(\"Variabilidad explicada\")\n",
    "plt.show()"
   ]
  },
  {
   "cell_type": "code",
   "execution_count": 11,
   "metadata": {
    "colab": {
     "base_uri": "https://localhost:8080/"
    },
    "id": "tqhismdrglh3",
    "outputId": "da1d7063-790b-4060-bd55-302da29f7c14"
   },
   "outputs": [
    {
     "data": {
      "text/plain": [
       "0.9008340000000001"
      ]
     },
     "execution_count": 11,
     "metadata": {},
     "output_type": "execute_result"
    }
   ],
   "source": [
    "var_explained = np.round(S**2/np.sum(S**2), decimals=6)\n",
    "num_components = 29\n",
    "sum(var_explained[0:num_components])"
   ]
  },
  {
   "cell_type": "markdown",
   "metadata": {
    "id": "xbTSlYFek4XT"
   },
   "source": [
    "Al retener 29 componentes del espacio vectorial transformado, mantenemos el $90\\%$ de la variabilidad o información"
   ]
  },
  {
   "cell_type": "code",
   "execution_count": 12,
   "metadata": {
    "id": "lFDC5e5zg7q2"
   },
   "outputs": [],
   "source": [
    "df_defensa_transformada = df_defensa_transformada @ VT[:num_components,:].T"
   ]
  },
  {
   "cell_type": "code",
   "execution_count": 13,
   "metadata": {
    "colab": {
     "base_uri": "https://localhost:8080/"
    },
    "id": "bBJJh485hlAg",
    "outputId": "0de71c4f-d882-4bae-e848-1a98fe2c1866"
   },
   "outputs": [
    {
     "data": {
      "text/plain": [
       "(175, 29)"
      ]
     },
     "execution_count": 13,
     "metadata": {},
     "output_type": "execute_result"
    }
   ],
   "source": [
    "df_defensa_transformada.shape"
   ]
  },
  {
   "cell_type": "code",
   "execution_count": 14,
   "metadata": {
    "colab": {
     "base_uri": "https://localhost:8080/",
     "height": 500
    },
    "id": "6eOIEqEDhvjp",
    "outputId": "0e8d9209-7a3f-4d6f-aa6e-e64e1bfae267"
   },
   "outputs": [
    {
     "data": {
      "image/png": "[encoded data removed]",
      "text/plain": [
       "<Figure size 864x576 with 1 Axes>"
      ]
     },
     "metadata": {
      "needs_background": "light"
     },
     "output_type": "display_data"
    }
   ],
   "source": [
    "from scipy.spatial.distance import pdist\n",
    "from scipy.cluster.hierarchy import linkage\n",
    "from scipy.cluster.hierarchy import dendrogram\n",
    "\n",
    "dist = pdist(df_defensa_transformada, metric='euclidean')\n",
    "Z = linkage(dist, method='ward')\n",
    "\n",
    "distancia_max = 35\n",
    "\n",
    "fig, ax = plt.subplots(figsize=(12, 8))\n",
    "d = dendrogram(Z, ax=ax, color_threshold=distancia_max)\n",
    "ax.set_xlabel('Observaciones', fontsize=14)\n",
    "ax.set_ylabel('Distancia', fontsize=14)\n",
    "plt.axhline(y=distancia_max, c='k')\n",
    "plt.show()"
   ]
  },
  {
   "cell_type": "markdown",
   "metadata": {
    "id": "7Tm3i-dHjbeX"
   },
   "source": [
    "En la gráfica anterior, al definir una distacia máxima de 35, tendríamos 8 grupos. Sin embargo dos grupos solo contienen uno o dos elementos."
   ]
  },
  {
   "cell_type": "code",
   "execution_count": 15,
   "metadata": {
    "colab": {
     "base_uri": "https://localhost:8080/"
    },
    "id": "csfFgDcJjtuT",
    "outputId": "9b43cc8c-f147-4a70-f0ab-380d00bbe195"
   },
   "outputs": [
    {
     "name": "stdout",
     "output_type": "stream",
     "text": [
      "En el orden inicial, cada registro pertenecería al siguiente cluster: [2 2 1 2 2 2 4 4 2 2 2 3 2 1 2 1 2 2 1 2 3 1 2 6 7 2 3 2 2 1 4 4 3 4 4 2 4\n",
      " 5 5 3 4 2 1 5 2 3 1 4 4 2 1 1 1 8 1 6 1 2 6 2 7 1 2 1 2 4 5 2 2 4 3 3 1 2\n",
      " 2 6 2 4 2 5 2 1 2 2 4 3 1 3 4 2 4 4 4 4 3 1 3 4 4 3 5 3 4 6 4 1 1 6 3 3 5\n",
      " 6 1 4 4 5 3 4 1 4 1 2 5 4 3 1 1 3 1 3 2 5 4 2 5 1 6 1 5 4 1 1 1 1 1 3 3 2\n",
      " 3 5 3 2 1 1 1 1 4 1 1 5 1 2 2 1 2 2 1 1 1 1 1 1 1 1 1]\n"
     ]
    }
   ],
   "source": [
    "from scipy.cluster.hierarchy import fcluster\n",
    "cluster_jerarquico = fcluster(Z, distancia_max, criterion=\"distance\")\n",
    "print(\"En el orden inicial, cada registro pertenecería al siguiente cluster:\", cluster_jerarquico)"
   ]
  },
  {
   "cell_type": "code",
   "execution_count": 16,
   "metadata": {
    "colab": {
     "base_uri": "https://localhost:8080/",
     "height": 265
    },
    "id": "lr_7VnRJ2oeq",
    "outputId": "d94d703d-52e4-4f53-e30b-24333c8ea435"
   },
   "outputs": [
    {
     "data": {
      "image/png": "[encoded data removed]",
      "text/plain": [
       "<Figure size 432x288 with 1 Axes>"
      ]
     },
     "metadata": {
      "needs_background": "light"
     },
     "output_type": "display_data"
    }
   ],
   "source": [
    "from sklearn.cluster import AgglomerativeClustering\n",
    "\n",
    "cluster_sk = AgglomerativeClustering(n_clusters=8, affinity='euclidean', linkage='ward')\n",
    "cluster_sk =cluster_sk.fit_predict(Z)\n",
    "\n",
    "plt.scatter(Z[:,0], Z[:,1], c=cluster_sk, cmap='tab20b')\n",
    "plt.show()"
   ]
  },
  {
   "cell_type": "code",
   "execution_count": 18,
   "metadata": {
    "id": "bkJnIv1E2pan"
   },
   "outputs": [],
   "source": [
    "similitud = cosine_similarity(df_defensa_transformada, df_defensa_transformada)"
   ]
  },
  {
   "cell_type": "code",
   "execution_count": 19,
   "metadata": {},
   "outputs": [],
   "source": [
    "def recomendacion(id_jugador, numero):\n",
    "    similares = list(similitud[id_jugador])\n",
    "    similares.pop(id_jugador)\n",
    "    return(sorted(range(len(similares)), key=lambda k: similares[k], reverse=True)[:numero])"
   ]
  },
  {
   "cell_type": "code",
   "execution_count": 32,
   "metadata": {},
   "outputs": [],
   "source": [
    "def sistema_recomendacion(jugador):\n",
    "    indice = df_defensa.index.to_list().index(jugador)\n",
    "    recomendaciones = recomendacion(indice, 5)\n",
    "    recomendaciones = [df_defensa.index.to_list()[i] for i in recomendaciones]\n",
    "    \n",
    "    cluster = cluster_jerarquico[indice]\n",
    "    cluster = [i for i, x in enumerate(cluster_jerarquico) \n",
    "                         if ((x == cluster) and (i != indice))]\n",
    "    cluster = [df_defensa.index.to_list()[i] for i in cluster]\n",
    "    \n",
    "    return(recomendaciones, cluster)"
   ]
  },
  {
   "cell_type": "code",
   "execution_count": 33,
   "metadata": {},
   "outputs": [
    {
     "data": {
      "text/html": [
       "<div>\n",
       "<style scoped>\n",
       "    .dataframe tbody tr th:only-of-type {\n",
       "        vertical-align: middle;\n",
       "    }\n",
       "\n",
       "    .dataframe tbody tr th {\n",
       "        vertical-align: top;\n",
       "    }\n",
       "\n",
       "    .dataframe thead th {\n",
       "        text-align: right;\n",
       "    }\n",
       "</style>\n",
       "<table border=\"1\" class=\"dataframe\">\n",
       "  <thead>\n",
       "    <tr style=\"text-align: right;\">\n",
       "      <th></th>\n",
       "      <th>Unnamed: 0</th>\n",
       "      <th>Player ID</th>\n",
       "      <th>Player Surname</th>\n",
       "      <th>Player Forename</th>\n",
       "      <th>Team</th>\n",
       "      <th>Position Id</th>\n",
       "      <th>recomendacion</th>\n",
       "      <th>cluster</th>\n",
       "    </tr>\n",
       "  </thead>\n",
       "  <tbody>\n",
       "    <tr>\n",
       "      <th>0</th>\n",
       "      <td>0</td>\n",
       "      <td>28566</td>\n",
       "      <td>Abou Diaby</td>\n",
       "      <td>Vassiriki</td>\n",
       "      <td>Arsenal</td>\n",
       "      <td>4</td>\n",
       "      <td>NaN</td>\n",
       "      <td>NaN</td>\n",
       "    </tr>\n",
       "    <tr>\n",
       "      <th>1</th>\n",
       "      <td>4</td>\n",
       "      <td>20208</td>\n",
       "      <td>Adam</td>\n",
       "      <td>Charlie</td>\n",
       "      <td>Liverpool</td>\n",
       "      <td>4</td>\n",
       "      <td>NaN</td>\n",
       "      <td>NaN</td>\n",
       "    </tr>\n",
       "    <tr>\n",
       "      <th>2</th>\n",
       "      <td>32</td>\n",
       "      <td>19959</td>\n",
       "      <td>Adam Johnson</td>\n",
       "      <td>NaN</td>\n",
       "      <td>Manchester City</td>\n",
       "      <td>4</td>\n",
       "      <td>NaN</td>\n",
       "      <td>NaN</td>\n",
       "    </tr>\n",
       "    <tr>\n",
       "      <th>3</th>\n",
       "      <td>58</td>\n",
       "      <td>17500</td>\n",
       "      <td>Adebayor</td>\n",
       "      <td>Emmanuel</td>\n",
       "      <td>Tottenham Hotspur</td>\n",
       "      <td>6</td>\n",
       "      <td>NaN</td>\n",
       "      <td>NaN</td>\n",
       "    </tr>\n",
       "    <tr>\n",
       "      <th>4</th>\n",
       "      <td>91</td>\n",
       "      <td>27450</td>\n",
       "      <td>Agbonlahor</td>\n",
       "      <td>Gabriel</td>\n",
       "      <td>Aston Villa</td>\n",
       "      <td>6</td>\n",
       "      <td>NaN</td>\n",
       "      <td>NaN</td>\n",
       "    </tr>\n",
       "  </tbody>\n",
       "</table>\n",
       "</div>"
      ],
      "text/plain": [
       "   Unnamed: 0  Player ID Player Surname Player Forename               Team  \\\n",
       "0           0      28566     Abou Diaby       Vassiriki            Arsenal   \n",
       "1           4      20208           Adam         Charlie          Liverpool   \n",
       "2          32      19959   Adam Johnson             NaN    Manchester City   \n",
       "3          58      17500       Adebayor        Emmanuel  Tottenham Hotspur   \n",
       "4          91      27450     Agbonlahor         Gabriel        Aston Villa   \n",
       "\n",
       "   Position Id recomendacion cluster  \n",
       "0            4           NaN     NaN  \n",
       "1            4           NaN     NaN  \n",
       "2            4           NaN     NaN  \n",
       "3            6           NaN     NaN  \n",
       "4            6           NaN     NaN  "
      ]
     },
     "execution_count": 33,
     "metadata": {},
     "output_type": "execute_result"
    }
   ],
   "source": [
    "df_recomendacion = pd.read_csv(\"../datos/recomendacion.csv\")\n",
    "df_recomendacion.head()"
   ]
  },
  {
   "cell_type": "code",
   "execution_count": 34,
   "metadata": {},
   "outputs": [],
   "source": [
    "df_recomendacion[\"recomendacion\"] = [sistema_recomendacion(x[\"Player ID\"])[0] \n",
    "                                     if x[\"Position Id\"] == 2 else x.recomendacion \n",
    "                                     for i, x in df_recomendacion.iterrows()]"
   ]
  },
  {
   "cell_type": "code",
   "execution_count": 35,
   "metadata": {},
   "outputs": [],
   "source": [
    "df_recomendacion[\"cluster\"] = [sistema_recomendacion(x[\"Player ID\"])[1] \n",
    "                                     if x[\"Position Id\"] == 2 else x.cluster \n",
    "                                     for i, x in df_recomendacion.iterrows()]"
   ]
  },
  {
   "cell_type": "code",
   "execution_count": 36,
   "metadata": {},
   "outputs": [],
   "source": [
    "df_recomendacion.to_csv(\"../datos/recomendacion.csv\", index=False)"
   ]
  },
  {
   "cell_type": "code",
   "execution_count": null,
   "metadata": {},
   "outputs": [],
   "source": []
  }
 ],
 "metadata": {
  "colab": {
   "collapsed_sections": [],
   "provenance": []
  },
  "kernelspec": {
   "display_name": "Python 3 (ipykernel)",
   "language": "python",
   "name": "python3"
  },
  "language_info": {
   "codemirror_mode": {
    "name": "ipython",
    "version": 3
   },
   "file_extension": ".py",
   "mimetype": "text/x-python",
   "name": "python",
   "nbconvert_exporter": "python",
   "pygments_lexer": "ipython3",
   "version": "3.9.7"
  }
 },
 "nbformat": 4,
 "nbformat_minor": 1
}
